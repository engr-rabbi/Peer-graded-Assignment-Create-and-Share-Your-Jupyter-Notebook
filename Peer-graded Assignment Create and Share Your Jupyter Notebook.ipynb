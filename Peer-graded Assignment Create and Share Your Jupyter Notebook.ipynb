{
 "cells": [
  {
   "cell_type": "markdown",
   "id": "80f09457",
   "metadata": {},
   "source": [
    "Peer-graded Assignment: Create and Share Your Jupyter Notebook"
   ]
  },
  {
   "cell_type": "markdown",
   "id": "645a2fbb",
   "metadata": {},
   "source": [
    "**Introduction :** Data science is an interdisciplinary field that combines statistical and computational techniques to extract insights and knowledge from data. It involves the use of various tools and methods to collect, process, analyze, and interpret large amounts of data to solve complex problems and make data-driven decisions. Data science has become increasingly important in recent years as more and more organizations are looking to leverage the power of data to gain a competitive edge and drive innovation"
   ]
  },
  {
   "cell_type": "markdown",
   "id": "4b9631a6",
   "metadata": {},
   "source": [
    "### Some popular programming languages used in data science include:\n",
    "\n",
    "- Python\n",
    "- R\n",
    "- SQL\n",
    "- Java\n",
    "- MATLAB\n",
    "- Scala\n"
   ]
  },
  {
   "cell_type": "markdown",
   "id": "c6ba5b2f",
   "metadata": {},
   "source": [
    "## Data Science Libraries\n",
    "\n",
    "- NumPy: for numerical computing and array manipulation\n"
   ]
  },
  {
   "cell_type": "markdown",
   "id": "df935ec9",
   "metadata": {},
   "source": [
    "| Category | Tools |\n",
    "| --- | --- |\n",
    "| Data Manipulation | Pandas, NumPy, Dplyr |\n",
    "| Data Visualization | Matplotlib, Seaborn, Plotly |\n",
    "| Machine Learning | Scikit-learn, TensorFlow, Keras |\n",
    "| Deep Learning | PyTorch, Theano, Caffe |\n",
    "| Natural Language Processing | NLTK, spaCy, Gensim |\n",
    "| Big Data | Hadoop, Spark, Hive |\n",
    "| Cloud Computing | AWS, Google Cloud, Microsoft Azure |\n",
    "| Data Storage | SQL, MongoDB, Cassandra |"
   ]
  },
  {
   "cell_type": "markdown",
   "id": "55972707",
   "metadata": {},
   "source": [
    "***Arithmetic expressions*** : mathematical operators to perform calculations. These operators include addition (+), subtraction (-), multiplication (*), division (/), and exponentiation (**). Here are some examples of arithmetic expressions:\n",
    "\n",
    "2 + 3 = 5\n",
    "\n",
    "7 - 4 = 3\n",
    "\n",
    "5 * 6 = 30\n",
    "\n",
    "8 / 4 = 2\n",
    "\n",
    "2 ** 3 = 8"
   ]
  },
  {
   "cell_type": "markdown",
   "id": "e1679149",
   "metadata": {},
   "source": [
    "### Create a code cell to multiply and add numbers"
   ]
  },
  {
   "cell_type": "code",
   "execution_count": 1,
   "id": "f6c87e20",
   "metadata": {},
   "outputs": [
    {
     "name": "stdout",
     "output_type": "stream",
     "text": [
      " multiply: 8 add:  5\n"
     ]
    }
   ],
   "source": [
    "a=2\n",
    "b=3\n",
    "multiply=a**b\n",
    "add=a+b\n",
    "print(\" multiply:\", multiply, \"add: \", add)"
   ]
  },
  {
   "cell_type": "code",
   "execution_count": 2,
   "id": "a0bcc14f",
   "metadata": {},
   "outputs": [
    {
     "name": "stdout",
     "output_type": "stream",
     "text": [
      "There are 2.0 hours in 120 minutes.\n"
     ]
    }
   ],
   "source": [
    "minutes = 120\n",
    "hours = minutes / 60\n",
    "\n",
    "print(\"There are\", hours, \"hours in\", minutes, \"minutes.\")"
   ]
  },
  {
   "cell_type": "markdown",
   "id": "53a368de",
   "metadata": {},
   "source": [
    "## Objectives of Python\n",
    "\n",
    "- To provide an easy-to-learn, high-level programming language.\n",
    "- To provide a language that is easy to read and write.\n",
    "- To provide a language that is open source and freely available.\n",
    "- To provide a language that is cross-platform and can run on multiple operating systems.\n",
    "- To provide a language that has a large and active community of users and developers.\n",
    "- To provide a language that is widely used in data science, machine learning, web development, and other areas.\n",
    "- To provide a language that has a rich ecosystem of libraries and tools for various purposes.\n",
    "- To provide a language that is suitable for both beginners and experienced programmers.\n"
   ]
  },
  {
   "cell_type": "markdown",
   "id": "9da04b41",
   "metadata": {},
   "source": [
    "**Author:** Shah Muhammad Fazle Rabbi"
   ]
  },
  {
   "cell_type": "code",
   "execution_count": null,
   "id": "05a15580",
   "metadata": {},
   "outputs": [],
   "source": []
  }
 ],
 "metadata": {
  "kernelspec": {
   "display_name": "Python 3 (ipykernel)",
   "language": "python",
   "name": "python3"
  },
  "language_info": {
   "codemirror_mode": {
    "name": "ipython",
    "version": 3
   },
   "file_extension": ".py",
   "mimetype": "text/x-python",
   "name": "python",
   "nbconvert_exporter": "python",
   "pygments_lexer": "ipython3",
   "version": "3.11.1"
  }
 },
 "nbformat": 4,
 "nbformat_minor": 5
}
